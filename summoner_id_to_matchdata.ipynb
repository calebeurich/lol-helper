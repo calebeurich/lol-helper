{
 "cells": [
  {
   "cell_type": "code",
   "execution_count": 31,
   "id": "8713d097-4f7e-4b26-b3f8-595b353fb692",
   "metadata": {},
   "outputs": [],
   "source": [
    "import pandas as pd\n",
    "import os\n",
    "import requests\n",
    "import json\n",
    "from dotenv import load_dotenv"
   ]
  },
  {
   "cell_type": "markdown",
   "id": "31da8ffe-7fb4-4970-a126-928ba2e85381",
   "metadata": {},
   "source": [
    "Variables List + Header API"
   ]
  },
  {
   "cell_type": "code",
   "execution_count": 30,
   "id": "003d1df7-9263-4867-b2ae-c008a4335e31",
   "metadata": {},
   "outputs": [],
   "source": [
    "load_dotenv()\n",
    "RIOT_API_KEY = os.getenv(\"RIOT_API_KEY\")\n",
    "my_game_name = os.getenv(\"my_game_name\")\n",
    "my_tag_line = os.getenv(\"my_tag_line\")"
   ]
  },
  {
   "cell_type": "code",
   "execution_count": 32,
   "id": "648fffe4-4604-4655-9363-1637cf04885e",
   "metadata": {},
   "outputs": [],
   "source": [
    "headers = {\n",
    "    \"X-Riot-Token\" : RIOT_API_KEY\n",
    "}"
   ]
  },
  {
   "cell_type": "markdown",
   "id": "3e56de3d",
   "metadata": {},
   "source": [
    "# Creating a quick data frame just for the purpose of testing the functions in the blocks below"
   ]
  },
  {
   "cell_type": "code",
   "execution_count": 24,
   "id": "0403aab0",
   "metadata": {},
   "outputs": [],
   "source": [
    "api_url = \"https://na1.api.riotgames.com/lol/league/v4/challengerleagues/by-queue/RANKED_SOLO_5x5\"\n",
    "\n",
    "resp = requests.get(api_url, headers=headers)\n",
    "response = resp.json()\n",
    "entries = response.get('entries', [])\n",
    "entries = entries[:4]\n",
    "test_df = pd.DataFrame([{\"summonerId\" : entry[\"summonerId\"]} for entry in entries])\n",
    "test_df.to_csv(\"test.csv\", index = False)"
   ]
  },
  {
   "cell_type": "markdown",
   "id": "b2fb7a41",
   "metadata": {},
   "source": [
    "# Function to read csv above and populate it (and the dataframe) with puuids in a new column"
   ]
  },
  {
   "cell_type": "code",
   "execution_count": null,
   "id": "6942fa60",
   "metadata": {},
   "outputs": [],
   "source": [
    "def get_puuid(csv_only_summ_ids):\n",
    "    # Assigning csv file here as a placeholder, can just include it in the argument when using this fucntion\n",
    "    df_only_summ_ids = pd.read_csv(csv_only_summ_ids, index_col=False)\n",
    "    # Loop to iterate through each row\n",
    "    for index, row in df_only_summ_ids.iterrows():\n",
    "            summoner_id = row[\"summonerId\"]\n",
    "            # Variable to insert summ_id in API url that fetches account data\n",
    "            api_url = f\"https://na1.api.riotgames.com/lol/summoner/v4/summoners/{summoner_id}\"\n",
    "            try:\n",
    "                resp = requests.get(api_url, headers=headers)  #Insert API link here\n",
    "                resp.raise_for_status()\n",
    "                summoner_info = resp.json()\n",
    "                # Create a column in the data frame called puuids and populate it with the puuid for each summoner id\n",
    "                df_only_summ_ids.at[index, \"puuid\"] = summoner_info.get(\"puuid\", \"Not Found\") # Store puuid in df, output Not Found if KeyError\n",
    "            # Alternative way to handle request exceptions that handles all request Errors instead of just error 400\n",
    "            except requests.RequestException as e:\n",
    "                print(f\"Error fetching puuid for {summoner_id}: {e}\")\n",
    "    # Update csv file with the new column\n",
    "    df_only_summ_ids.to_csv(csv_only_summ_ids, index = False)\n",
    "# Calling function to add new info to existing csv instead of creating new one (using test csv from above in this case)\n",
    "get_puuid(\"test.csv\")"
   ]
  },
  {
   "cell_type": "markdown",
   "id": "0d58f72e",
   "metadata": {},
   "source": [
    "# Function to get match ids using puuids from Dataframe"
   ]
  },
  {
   "cell_type": "code",
   "execution_count": null,
   "id": "049d9b04",
   "metadata": {},
   "outputs": [],
   "source": [
    "def get_match_ids(csv_summids_and_puuids):\n",
    "    # Read csv file with summoner ids and puuids \n",
    "    df_summoners = pd.read_csv(csv_summids_and_puuids)\n",
    "    # Create a new DataFrame to store match data\n",
    "    df_all_matches = pd.DataFrame(columns = [\"summonerId\", \"puuid\", \"matchId\", \"matchData\"])\n",
    "    # Variable for number of matches, will be defaulted to max (100) in actual code, small number used for testing\n",
    "    number_of_matches = 5\n",
    "    # Iterate through each row in df_summoners\n",
    "    for _, row in df_summoners.iterrows():\n",
    "        summoner_id = row[\"summonerId\"]\n",
    "        puuid = row[\"puuid\"]\n",
    "        # Fetch match ids for each puuid\n",
    "        match_history_api_url = f\"https://americas.api.riotgames.com/lol/match/v5/matches/by-puuid/{puuid}/ids?start=0&count={number_of_matches}\"\n",
    "\n",
    "        try:\n",
    "            resp = requests.get(match_history_api_url, headers=headers)\n",
    "            resp.raise_for_status()\n",
    "            match_ids = resp.json()\n",
    "            # Iterate through each match id and fetch match data\n",
    "            for match_id in match_ids:\n",
    "                match_data_api_url = f\"https://americas.api.riotgames.com/lol/match/v5/matches/{match_id}\"\n",
    "                response = requests.get(match_data_api_url, headers=headers)\n",
    "                match_data = response.json()\n",
    "                # Store match data in JSON file along with summoner id and puuid\n",
    "                df_mini = pd.DataFrame({\n",
    "                    \"summonerId\" : [summoner_id],\n",
    "                    \"puuid\" : [puuid],\n",
    "                    \"matchId\" : [match_id],\n",
    "                    \"matchData\": [json.dumps(match_data)]\n",
    "                    })\n",
    "                # Append to main DataFrame\n",
    "                df_all_matches = pd.concat([df_all_matches, df_mini], ignore_index = True)\n",
    "        # Alternative way to handle request exceptions that handles all request Errors instead of just error 400\n",
    "        except requests.RequestException as e:\n",
    "            print(f\"Error fetching matches for {puuid}: {e}\")\n",
    "    # Save the expanded DataFrame\n",
    "    df_all_matches.to_csv(\"all_match_data_test.csv\", index = False)\n",
    "get_match_ids(\"test.csv\")"
   ]
  }
 ],
 "metadata": {
  "kernelspec": {
   "display_name": "Python 3",
   "language": "python",
   "name": "python3"
  },
  "language_info": {
   "codemirror_mode": {
    "name": "ipython",
    "version": 3
   },
   "file_extension": ".py",
   "mimetype": "text/x-python",
   "name": "python",
   "nbconvert_exporter": "python",
   "pygments_lexer": "ipython3",
   "version": "3.13.1"
  }
 },
 "nbformat": 4,
 "nbformat_minor": 5
}
