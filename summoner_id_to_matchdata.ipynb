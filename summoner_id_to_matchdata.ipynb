{
 "cells": [
  {
   "cell_type": "code",
   "execution_count": 2,
   "id": "8713d097-4f7e-4b26-b3f8-595b353fb692",
   "metadata": {},
   "outputs": [],
   "source": [
    "import pandas as pd\n",
    "import os\n",
    "import requests\n",
    "from dotenv import load_dotenv"
   ]
  },
  {
   "cell_type": "markdown",
   "id": "31da8ffe-7fb4-4970-a126-928ba2e85381",
   "metadata": {},
   "source": [
    "Variables List + Header API"
   ]
  },
  {
   "cell_type": "code",
   "execution_count": 9,
   "id": "003d1df7-9263-4867-b2ae-c008a4335e31",
   "metadata": {},
   "outputs": [],
   "source": [
    "load_dotenv()\n",
    "RIOT_API_KEY = os.getenv(\"RIOT_API_KEY\")\n",
    "my_game_name = os.getenv(\"my_game_name\")\n",
    "my_tag_line = os.getenv(\"my_tag_line\")"
   ]
  },
  {
   "cell_type": "code",
   "execution_count": 10,
   "id": "648fffe4-4604-4655-9363-1637cf04885e",
   "metadata": {},
   "outputs": [],
   "source": [
    "headers = {\n",
    "    \"X-Riot-Token\" : RIOT_API_KEY\n",
    "}"
   ]
  },
  {
   "cell_type": "markdown",
   "id": "b3b8d44a-d091-4b4e-b9f1-bd3af3c6dc2a",
   "metadata": {},
   "source": [
    "# Function to get puuid using summoner_id from Dataframe"
   ]
  },
  {
   "cell_type": "code",
   "execution_count": 11,
   "id": "6942fa60",
   "metadata": {},
   "outputs": [
    {
     "name": "stdout",
     "output_type": "stream",
     "text": [
      "Couldn't complete request for rlesU8V-exQlYK_vWUX1KMYJBlSYRMS2FjmFxcQtsOcTtsBXJ4d9xIRbQA\n"
     ]
    },
    {
     "data": {
      "text/html": [
       "<div>\n",
       "<style scoped>\n",
       "    .dataframe tbody tr th:only-of-type {\n",
       "        vertical-align: middle;\n",
       "    }\n",
       "\n",
       "    .dataframe tbody tr th {\n",
       "        vertical-align: top;\n",
       "    }\n",
       "\n",
       "    .dataframe thead th {\n",
       "        text-align: right;\n",
       "    }\n",
       "</style>\n",
       "<table border=\"1\" class=\"dataframe\">\n",
       "  <thead>\n",
       "    <tr style=\"text-align: right;\">\n",
       "      <th></th>\n",
       "      <th>Unnamed: 0</th>\n",
       "      <th>summonerId</th>\n",
       "    </tr>\n",
       "  </thead>\n",
       "  <tbody>\n",
       "    <tr>\n",
       "      <th>0</th>\n",
       "      <td>0</td>\n",
       "      <td>rlesU8V-exQlYK_vWUX1KMYJBlSYRMS2FjmFxcQtsOcTts...</td>\n",
       "    </tr>\n",
       "  </tbody>\n",
       "</table>\n",
       "</div>"
      ],
      "text/plain": [
       "   Unnamed: 0                                         summonerId\n",
       "0           0  rlesU8V-exQlYK_vWUX1KMYJBlSYRMS2FjmFxcQtsOcTts..."
      ]
     },
     "execution_count": 11,
     "metadata": {},
     "output_type": "execute_result"
    }
   ],
   "source": [
    "df_only_summ_ids = pd.read_csv(\"all_wanted_summoner_ids.csv\")\n",
    "df_only_summ_ids = df_only_summ_ids.head(1)\n",
    "\n",
    "for index, row in df_only_summ_ids.iterrows():\n",
    "        summoner_id = row[\"summonerId\"]\n",
    "        api_url = f\"https://na1.api.riotgames.com/lol/summoner/v4/summoners/{summoner_id}\"\n",
    "        try:\n",
    "            resp = requests.get(api_url, headers=headers)  #Insert API link here\n",
    "            resp.raise_for_status()\n",
    "            summoner_info = resp.json()\n",
    "            df_only_summ_ids.iloc[index, df_only_summ_ids.columns.get_loc(\"puuid\")] = summoner_info.get(\"puuid\", \"Not Found\") # Store puuid in df, output Not Found if KeyError\n",
    "        except requests.HTTPError:\n",
    "            print(f\"Couldn't complete request for {summoner_id}\")\n",
    "\n",
    "\n",
    "df_only_summ_ids"
   ]
  },
  {
   "cell_type": "code",
   "execution_count": null,
   "id": "e867844c-61ee-4b6b-b399-07c5d7d8dea6",
   "metadata": {},
   "outputs": [],
   "source": [
    "def get_puuid(csv_dataframe):\n",
    "    # Assigning csv file name here as a placeholder\n",
    "    csv_dataframe = \"all_wanted_summoner_ids.csv\"\n",
    "    # Read CSV\n",
    "    df_only_summ_ids = pd.read_csv(csv_dataframe)\n",
    "    # Create an empty column for puuid\n",
    "    df_only_summ_ids[\"puuid\"] = \"\"\n",
    "    # Loop through summonerId column\n",
    "    for index, row in df_only_summ_ids.iterrows():\n",
    "        summoner_id = row[\"summonerId\"]\n",
    "        api_url = f\"https://na1.api.riotgames.com/lol/summoner/v4/summoners/{summoner_id}\"\n",
    "        try:\n",
    "            resp = requests.get(api_url, headers=headers)  #Insert API link here\n",
    "            resp.raise_for_status()\n",
    "            summoner_info = resp.json()\n",
    "            df_only_summ_ids.iloc[index, df_only_summ_ids.columns.get_loc(\"puuid\")] = summoner_info.get(\"puuid\", \"Not Found\") # Store puuid in df, output Not Found if KeyError\n",
    "        except requests.HTTPError:\n",
    "            print(f\"Couldn't complete request for {summoner_id}\")\n",
    "            # Save updated df back to CSV file\n",
    "    df_only_summ_ids.to_csv(\"summoner_ids_with_puuids.csv\", index=False)\n",
    "    return df_only_summ_ids"
   ]
  },
  {
   "cell_type": "markdown",
   "id": "0d58f72e",
   "metadata": {},
   "source": [
    "# Function to get match ids using puuids from Dataframe"
   ]
  },
  {
   "cell_type": "code",
   "execution_count": null,
   "id": "049d9b04",
   "metadata": {},
   "outputs": [],
   "source": [
    "def get_match_ids(csv_dataframe):\n",
    "    # Assigning csv file name here as a placeholder\n",
    "    csv_dataframe = \"summoner_ids_with_puuids.csv\"\n",
    "    # Read CSV\n",
    "    df_summid_and_puuid = pd.read_csv(csv_dataframe)\n",
    "    # Create empty DataFram with puuid, summid and match_id columns\n",
    "    df_puuids_and_match_ids = pd.DataFrame(columns = [\"summonerId\", \"puuid\", \"match_ids\"])\n",
    "    # Loop through puuid column\n",
    "    for index, puuid in df_summid_and_puuid[\"puuid\"]:\n",
    "        api_url = f\"https://americas.api.riotgames.com/lol/match/v5/matches/by-puuid/{puuid}/ids?start=0&count=100\"\n",
    "        try:\n",
    "            resp = requests.get(api_url, headers = headers)\n",
    "            resp.raise_for_status()\n",
    "            match_ids = resp.json()\n",
    "            for \n",
    "            df_puuids_and_match_ids.at[index, \"match_ids\"] = match_ids.get(\"match_ids\", \"Not Found\") # Store puuid in df, output Not Found if KeyError\n",
    "        except requests.HTTPError:\n",
    "            print(f\"Couldn't complete request for {puuid}\")\n",
    "    # Save updated df back to CSV file\n",
    "    df.to_csv(csv_dataframe, index=False)\n",
    "    return df\n"
   ]
  },
  {
   "cell_type": "markdown",
   "id": "95457980-cda1-4fe0-a225-a0c6f6144392",
   "metadata": {},
   "source": [
    "# Function to get list of match_ids using puuid\n",
    "Need to create a loop to keep providing the next 100 ids due to count limit, important to care with rate limit"
   ]
  },
  {
   "cell_type": "code",
   "execution_count": null,
   "id": "bb6740b7-a83b-4986-bbd2-4daa622721f0",
   "metadata": {},
   "outputs": [],
   "source": [
    "def get_match_id(puuid):\n",
    "    api_url = f\"https://americas.api.riotgames.com/lol/match/v5/matches/by-puuid/{puuid}/ids?start=0&count=100\"\n",
    "    try:\n",
    "        resp = requests.get(api_url, headers=headers )  #Insert API link here\n",
    "        resp.raise_for_status()\n",
    "    except requests.HTTPError:\n",
    "        print(\"Couldn't complete request\")\n",
    "    match_ids = resp.json()\n",
    "    return match_ids"
   ]
  }
 ],
 "metadata": {
  "kernelspec": {
   "display_name": "Python 3",
   "language": "python",
   "name": "python3"
  },
  "language_info": {
   "codemirror_mode": {
    "name": "ipython",
    "version": 3
   },
   "file_extension": ".py",
   "mimetype": "text/x-python",
   "name": "python",
   "nbconvert_exporter": "python",
   "pygments_lexer": "ipython3",
   "version": "3.13.1"
  }
 },
 "nbformat": 4,
 "nbformat_minor": 5
}
