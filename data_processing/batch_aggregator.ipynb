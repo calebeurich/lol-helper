{
 "cells": [
  {
   "cell_type": "markdown",
   "id": "adeb9ccb",
   "metadata": {},
   "source": [
    "Code to clean up raw data from camel case to snake case"
   ]
  },
  {
   "cell_type": "code",
   "execution_count": 4,
   "id": "30ebc6fd",
   "metadata": {},
   "outputs": [
    {
     "name": "stdout",
     "output_type": "stream",
     "text": [
      "Spark up: 1\n"
     ]
    }
   ],
   "source": [
    "import os, sys, re, json\n",
    "from pyspark.sql.functions import col, udf\n",
    "from pyspark.sql.types import StringType\n",
    "from pyspark.sql import SparkSession\n",
    "\n",
    "# ensure Python child processes use the same interpreter\n",
    "os.environ[\"PYSPARK_PYTHON\"] = sys.executable\n",
    "os.environ[\"PYSPARK_DRIVER_PYTHON\"] = sys.executable\n",
    "\n",
    "# stop any old session\n",
    "try: spark.stop()\n",
    "except: pass\n",
    "\n",
    "\n",
    "spark = (\n",
    "    SparkSession.builder\n",
    "        .appName(\"CleanRawMatchData\")\n",
    "        .config(\"spark.driver.memory\", \"4g\")\n",
    "        .config(\"spark.sql.adaptive.enabled\", \"false\")\n",
    "        .getOrCreate()\n",
    ")\n",
    "\n",
    "\n",
    "print(\"Spark up:\", spark.range(1).count())\n",
    "\n",
    "INPUT_PATH_SMALL = \"C:/Users/17862/Desktop/SnexCode/lol-helper/data_processing/camel_to_snake/small_csv_batches\"\n",
    "OUTPUT_PATH_SMALL = \"C:/Users/17862/Desktop/SnexCode/lol-helper/data_processing/camel_to_snake/small_snake_csv\"\n",
    "\n",
    "INPUT_PATH_LARGE = \"C:/Users/17862/Desktop/SnexCode/lol-helper/data_processing/camel_to_snake/large_csv_batches\"\n",
    "OUTPUT_PATH_LARGE = \"C:/Users/17862/Desktop/SnexCode/lol-helper/data_processing/camel_to_snake/large_snake_csv\""
   ]
  },
  {
   "cell_type": "code",
   "execution_count": null,
   "id": "3e5556a3",
   "metadata": {},
   "outputs": [],
   "source": [
    "# ———————————————\n",
    "# 1) UDF to snake-case nested JSON keys\n",
    "def camel_to_snake(name:str)->str:\n",
    "    s1 = re.sub(r'(.)([A-Z][a-z]+)', r'\\1_\\2', name)\n",
    "    s2 = re.sub(r'([a-z0-9])([A-Z])', r'\\1_\\2', s1)\n",
    "    return s2.lower()\n",
    "\n",
    "def rename_keys(obj):\n",
    "    if isinstance(obj, dict):\n",
    "        return { camel_to_snake(k): rename_keys(v)\n",
    "                 for k,v in obj.items() }\n",
    "    elif isinstance(obj, list):\n",
    "        return [rename_keys(x) for x in obj]\n",
    "    else:\n",
    "        return obj\n",
    "\n",
    "def safe_snake_json(s: str) -> str:\n",
    "    if not s or not s.strip():\n",
    "        return None\n",
    "    try:\n",
    "        parsed = json.loads(s)\n",
    "    except json.JSONDecodeError:\n",
    "        # either log.warn here or just return None / original\n",
    "        return None\n",
    "    return json.dumps(rename_keys(parsed))\n",
    "\n",
    "snake_json = udf(safe_snake_json, StringType())\n",
    "\n",
    "# ———————————————\n",
    "# 2) Read all your CSVs from the folder (preserving all columns)\n",
    "df_raw = (\n",
    "    spark.read\n",
    "         .option(\"header\", True)\n",
    "         .option(\"multiLine\", True)\n",
    "         .option(\"escape\", '\"')\n",
    "         .option(\"quote\", '\"')\n",
    "         .csv(INPUT_PATH_LARGE)\n",
    ")\n",
    "\n",
    "# ———————————————\n",
    "# 3) Apply the UDF in-place, on the matchData column\n",
    "df_clean = df_raw.withColumn(\"matchData\", snake_json(col(\"matchData\")))\n",
    "\n",
    "# ———————————————\n",
    "# 4) (Optional) rename into snake_case for the column names themselves\n",
    "df_clean = (\n",
    "    df_clean\n",
    "      .withColumnRenamed(\"summonerId\",  \"summoner_id\")\n",
    "      .withColumnRenamed(\"puuid\",       \"puuid\")\n",
    "      .withColumnRenamed(\"matchId\",     \"match_id\")\n",
    "      .withColumnRenamed(\"matchData\",   \"match_data\")\n",
    ")\n",
    "\n",
    "# ———————————————\n",
    "# 5) Write out as a proper CSV with header—this will preserve all four columns\n",
    "(\n",
    "    df_clean\n",
    "        .coalesce(1)                      # optional: emit a single output file\n",
    "        .write\n",
    "        .mode(\"overwrite\")                # overwrite just this folder\n",
    "        .option(\"header\", True)           # include column names\n",
    "        .option(\"quote\", \"\\\"\")            # use \" as the quoting char\n",
    "        .option(\"escape\", \"\\\"\")           # escape internal \" by doubling them\n",
    "        .option(\"quoteAll\", True)         # quote every field (safer for JSON blobs)\n",
    "        .csv(OUTPUT_PATH_LARGE)\n",
    ")"
   ]
  }
 ],
 "metadata": {
  "kernelspec": {
   "display_name": "Python 3",
   "language": "python",
   "name": "python3"
  },
  "language_info": {
   "codemirror_mode": {
    "name": "ipython",
    "version": 3
   },
   "file_extension": ".py",
   "mimetype": "text/x-python",
   "name": "python",
   "nbconvert_exporter": "python",
   "pygments_lexer": "ipython3",
   "version": "3.11.0"
  }
 },
 "nbformat": 4,
 "nbformat_minor": 5
}
